{
 "cells": [
  {
   "cell_type": "markdown",
   "metadata": {},
   "source": [
    "# Variational Quantum Eigen Solver (VQE) Tutorial\n",
    "\n",
    "This tutorial is intended for new students working on quantum computing projects with Dr. Michael McGuigan. It gives a brief overview of the theory behind the variational method and gives an in-depth guide to running your first VQE program using IBM's QISKit python library. We will do two examples: The 1-D Harmonic Oscillator as well as the 1-D Anharmonic Oscillator"
   ]
  },
  {
   "cell_type": "markdown",
   "metadata": {},
   "source": [
    "# The Variational Method\n",
    "\n",
    "## Claim:\n",
    "The Variational method guarentees to set an upper bound for the ground state energy ($E_{gs}$) of a system described by the Hamiltonian H\n",
    "\n",
    "\n",
    "\\begin{equation}E_{gs} \\leqslant \\langle\\psi|H|\\psi\\rangle \\equiv \\langle H\\rangle\\end{equation}\n",
    "\n",
    "The variational method is so powerful because it can give a somewhat accurate idea of the ground state energy of a system by simply guessing a trial wave fucntion and finding $\\langle H\\rangle$. \n",
    "\n",
    "## 1-D Harmonic Oscillator Example \n",
    "##### From example 7.1 on pgs. 294-295 of D.J. Griffiths' Introduction to Quantum Mechanics\n",
    "Suppose we start with the following potential $V(x)$:\n",
    "\\begin{equation}\n",
    "V(x) = \\frac{1}{2}m\\omega^{2}x^{2}\n",
    "\\end{equation}\n",
    "\n",
    "With this, the Hamiltonian is written:\n",
    "\n",
    "\\begin{equation}\n",
    "H = -\\frac{\\hbar^{2}}{2m}\\frac{d^{2}}{dx^{2}} + \\frac{1}{2}m\\omega^{2}x^{2}\n",
    "\\end{equation}\n",
    "\n",
    "To find an upper bound for $E_{gs}$ we start by choosing a trial wave function. We'll try:\n",
    "\n",
    "\\begin{equation}\\psi(x) = Ae^{-bx^{2}}\\end{equation}\n",
    "where b is a constant and A is the normalization constant.\n",
    "\n",
    "Now we find the expectation value of the Hamiltonian\n",
    "\n",
    "\\begin{equation}\\langle{H}\\rangle{} = \\langle{T}\\rangle + \\langle{V}\\rangle\\end{equation}\n",
    "\n",
    "where the expectation of the kinetic energy is\n",
    "\n",
    "\\begin{equation}\\langle{T}\\rangle = -\\frac{\\hbar^{2}}{2m}|A^{2}| \\int_{-\\infty}^{\\infty} e^{-bx^{2}} \\frac{d^{2}}{dx^{2}} e^{-bx^{2}}dx = \\frac{\\hbar^{2}b}{2m}\\end{equation}\n",
    "\n",
    "and the expectation of the potential energy is\n",
    "\n",
    "\\begin{equation}\\langle{V}\\rangle = \\frac{1}{2}m\\omega^{2}x^{2}|A^{2}| \\int_{-\\infty}^{\\infty} e^{-2bx^{2}}dx = \\frac{m\\omega^{2}}{8b}\\end{equation}\n",
    "\n",
    "Therefore:\n",
    "\n",
    "\\begin{equation}\\langle H\\rangle = \\frac{\\hbar^{2}b}{2m} + \\frac{m\\omega^{2}}{8b}\\end{equation}\n",
    "\n",
    "The above relation exceeds $E_{gs}$ for any b, therefore, to get the greatest lower bound we need to minimize $\\langle H\\rangle$\n",
    "\n",
    "\\begin{equation}\\frac{d}{db}\\langle H\\rangle = \\frac{\\hbar^{2}}{2m} - \\frac{m\\omega^{2}}{8b^{2}} = 0 \\implies b = \\frac{m\\omega}{2\\hbar}\\end{equation}\n",
    "\n",
    "After pluggin this back into $\\langle H\\rangle$ we get the familiar result:\n",
    "\n",
    "\\begin{equation}\\langle H\\rangle_{min} = \\frac{1}{2}\\hbar\\omega\\end{equation}"
   ]
  },
  {
   "cell_type": "markdown",
   "metadata": {},
   "source": [
    "# 1-D Anharmonic Oscillator\n",
    "### Example taken from pg. 440 from red text book\n",
    "\n",
    "The Anharmonic Oscillator has a potential of the form\n",
    "$$V(x) = \\lambda x^{4} $$\n",
    "where $\\lambda$ is a constant.\n",
    "\n",
    "The first step in the variational method is to choose a trial wave function that we hope best represents the actual wave function. Unfortunately this boils down to a complete guess, but we can still get very acurate results with some reasoning. We expect the following with regards to the ground state:\n",
    "1. It will have parity\n",
    "2. It will have no nodes\n",
    "3. It will have even parity\n",
    "4. It will peak at $x = 0$ so as to minimize $V(x)$\n",
    "5. It will vanish as $|x| \\rightarrow \\infty$\n",
    "\n",
    "A trial wave fucntion that has all of these properties with the added nicety of being easy to integrate and differentiate is a Gaussian of the form:\n",
    "\n",
    "$$\\psi(x, \\alpha) = e^{-\\alpha x^{2}/2}$$\n",
    "where $\\alpha$ is a free parameter\n",
    "\n",
    "Therefore, the energy function $E(\\alpha)$ as a function of $\\alpha$ is:\n",
    "\n",
    "$$E(\\alpha) = \\frac{\\int e^{-\\alpha x^{2}/2} (-\\frac{\\hbar^{2}}{2m}\\frac{d^{2}}{dx^{2}} + \\lambda x^{4}) e^{-\\alpha x^{2}/2}dx}{\\int e^{-\\alpha x^{2}/2} dx} = \\frac{\\hbar^{2}\\alpha}{4m} + \\frac{3\\lambda}{4\\alpha^{2}}$$\n",
    "\n",
    "Our goal is to find $E_{gs}$, which means we need to find the minimum of $E(\\alpha)$. To do this we simply differentiate $E(\\alpha)$, set it equal to $0$, and solve for $\\alpha$\n",
    "\n",
    "$$\\frac{dE}{d\\alpha} = \\frac{\\hbar^{2}}{4m} - \\frac{3\\lambda}{2\\alpha^{3}} = 0 \\implies \\alpha_{0} = \\left(\\frac{6m\\lambda}{\\hbar^{2}}\\right)^{1/3}$$\n",
    "\n",
    "$\\alpha_{0}$ corresponds to the minimum of the energy function, which is:\n",
    "$$E(\\alpha_{0}) = \\frac{3}{8} \\left(\\frac{6\\hbar^{4}\\lambda}{m^{2}}\\right)^{1/3}$$\n",
    "\n",
    "We know for a fact that the ground state energy of the anharmonic oscillator is roughly $1.06$ eV. Using units such that $\\hbar = 1$ & $\\lambda = 1$, along with $m = \\frac{1}{2}$ and plug them into $E(\\alpha_{0})$, we get the following:"
   ]
  },
  {
   "cell_type": "markdown",
   "metadata": {},
   "source": [
    "# Dependencies\n",
    "\n",
    "Note: if all of the versions don't match with your own you may run into errors while running VQE"
   ]
  },
  {
   "cell_type": "code",
   "execution_count": 2,
   "metadata": {
    "scrolled": true
   },
   "outputs": [
    {
     "data": {
      "text/html": [
       "<h3>Version Information</h3><table><tr><th>Qiskit Software</th><th>Version</th></tr><tr><td>Qiskit</td><td>0.19.1</td></tr><tr><td>Terra</td><td>0.14.1</td></tr><tr><td>Aer</td><td>0.5.1</td></tr><tr><td>Ignis</td><td>0.3.0</td></tr><tr><td>Aqua</td><td>0.7.0</td></tr><tr><td>IBM Q Provider</td><td>0.7.0</td></tr><tr><th>System information</th></tr><tr><td>Python</td><td>3.7.6 (default, Jan  8 2020, 20:23:39) [MSC v.1916 64 bit (AMD64)]</td></tr><tr><td>OS</td><td>Windows</td></tr><tr><td>CPUs</td><td>4</td></tr><tr><td>Memory (Gb)</td><td>7.880100250244141</td></tr><tr><td colspan='2'>Thu Jul 30 04:42:54 2020 Pacific Daylight Time</td></tr></table>"
      ],
      "text/plain": [
       "<IPython.core.display.HTML object>"
      ]
     },
     "metadata": {},
     "output_type": "display_data"
    },
    {
     "data": {
      "text/plain": [
       "<Figure size 864x720 with 0 Axes>"
      ]
     },
     "metadata": {},
     "output_type": "display_data"
    }
   ],
   "source": [
    "# Importing useful packages\n",
    "import sys\n",
    "import time\n",
    "import numpy as np\n",
    "import pandas as pd\n",
    "import seaborn as sns\n",
    "from tabulate import tabulate\n",
    "import matplotlib.pyplot as plt\n",
    "\n",
    "#tabulate\n",
    "from qiskit import QuantumCircuit, execute, Aer\n",
    "\n",
    "# Importing QISKit\n",
    "#qiskit.aqua.algorithms.adaptive remove adaptive\n",
    "#remove the op_converter import and use op_converter.to_weighted_pauli_operator\n",
    "from qiskit import Aer, execute, BasicAer\n",
    "\n",
    "from qiskit.aqua.components.initial_states import Zero\n",
    "from qiskit.aqua.algorithms import VQE\n",
    "from qiskit.aqua import QuantumInstance, aqua_globals\n",
    "from qiskit.aqua.operators import WeightedPauliOperator\n",
    "from qiskit.aqua.algorithms import ExactEigensolver\n",
    "from qiskit.aqua.components.initial_states import Custom\n",
    "from qiskit.aqua.components.variational_forms import RY, RYRZ\n",
    "#from qiskit.aqua.operators.op_converter import to_weighted_pauli_operator\n",
    "from qiskit.aqua.components.optimizers import COBYLA, SPSA, L_BFGS_B, SLSQP\n",
    "from qiskit.aqua.operators import (TPBGroupedWeightedPauliOperator, WeightedPauliOperator, MatrixOperator)\n",
    "from qiskit.aqua.operators.legacy import op_converter\n",
    "\n",
    "plt.figure(figsize=(12,10))\n",
    "\n",
    "import qiskit.tools.jupyter \n",
    "%qiskit_version_table"
   ]
  },
  {
   "cell_type": "markdown",
   "metadata": {},
   "source": [
    "# Running VQE"
   ]
  },
  {
   "cell_type": "code",
   "execution_count": 3,
   "metadata": {},
   "outputs": [],
   "source": [
    "def run_VQE(**kwargs):\n",
    "    \"\"\"Runs the Variational Quantum Eigensolver (VQE)\n",
    "    \n",
    "    Args:\n",
    "        file_path (str): path to txt file containing Hamiltonian\n",
    "        simulator (str): [statevector_simulator, qasm_simulator] The type of simulator \n",
    "            you wish to use (statevector is noiseless, while qasm contains a noise model)\n",
    "        \n",
    "    Returns:\n",
    "        return_dict (dict): Dictionary with the following Keys:\n",
    "            file_name (str): Name of file used for simulation\n",
    "            \n",
    "            result_df (DataFrame): Pandas DataFrame containing the \n",
    "                convergence count (df index), convergence_vals, and percent_error\n",
    "                \n",
    "            reference_val (float): GS Energy found using the Exact Eigen Solver\n",
    "            \n",
    "            algos (QISKit VQE Object): Object returned by the VQE algorithm class\n",
    "            \n",
    "            algo_results (dict): Results from VQE run (one algorithim result dict\n",
    "                for each optimizer) \n",
    "    \"\"\"\n",
    "    file_path = kwargs['file_path']\n",
    "    init_state_name = kwargs['init_state_name']\n",
    "    vf_name = kwargs['vf_name']\n",
    "    depth = kwargs['depth']\n",
    "    shots = kwargs['shots']\n",
    "    simulator = kwargs['simulator']\n",
    "    \n",
    "    # Loading matrix representation of Hamiltonian txt file\n",
    "    H = np.loadtxt(file_path)\n",
    "    \n",
    "    # Converting Hamiltonian to Matrix Operator\n",
    "    qubit_op = MatrixOperator(matrix=H)\n",
    "    \n",
    "    \n",
    "    \n",
    "    \n",
    "    # Converting to Pauli Operator\n",
    "    qubit_op = op_converter.to_weighted_pauli_operator(qubit_op)\n",
    "    \n",
    "    start = time.time()\n",
    "    \n",
    "    num_qubits = qubit_op.num_qubits\n",
    "    num_paulis = len(qubit_op.paulis)\n",
    "    num_qubits = qubit_op.num_qubits\n",
    "    \n",
    "    print(num_qubits, \"!!!!!\")\n",
    "    print(f\"\"\"{num_paulis} Pauli factors \\n{round(time.time()-start)} s to process\"\"\")\n",
    "    \n",
    "    \n",
    "    \n",
    "    # Solving system exactly for reference value\n",
    "    ee = ExactEigensolver(qubit_op)\n",
    "    result = ee.run()\n",
    "    \n",
    "    ref = result['energy']\n",
    "\n",
    "    # Setting initial state, variational form, and backend\n",
    "    init_state = init_state_name(num_qubits)\n",
    "    var_form = vf_name(num_qubits,\n",
    "                      depth=depth,\n",
    "                      entanglement='linear',\n",
    "                      initial_state=init_state)\n",
    "    \n",
    "    backend = BasicAer.get_backend(simulator)\n",
    "    \n",
    "\n",
    "    # Don't use SPSA if using a noiseless simulator\n",
    "    if simulator == 'statevector_simulator':\n",
    "        optimizers = [COBYLA, L_BFGS_B, SLSQP]  \n",
    "    else:\n",
    "        optimizers = [SPSA]\n",
    "    \n",
    "    # Initializing empty lists & dicts for storage\n",
    "    dfs = []\n",
    "    algos = {}\n",
    "    algo_results = {}\n",
    "    for optimizer in optimizers:\n",
    "        # For reproducibility\n",
    "        aqua_globals.random_seed = 250\n",
    "        print(f'\\rOptimizer: {optimizer.__name__}          ', end='')\n",
    "\n",
    "        counts = []\n",
    "        values = []\n",
    "        params = []\n",
    "        def store_intermediate_result(eval_count, parameters, mean, std):\n",
    "            counts.append(eval_count)\n",
    "            values.append(mean)\n",
    "            params.append(parameters)\n",
    "        \n",
    "        # Running VQE \n",
    "        algo = VQE(qubit_op, var_form, optimizer(), callback=store_intermediate_result)\n",
    "        quantum_instance = QuantumInstance(backend=backend, shots=shots)  \n",
    "        algo_result = algo.run(quantum_instance)\n",
    "        \n",
    "        \n",
    "        \n",
    "        \n",
    "        # Appending each optimizer data frame to one list\n",
    "        dfs.append(pd.DataFrame(values, columns=['convergence_vals'], index=counts))\n",
    "        algos[optimizer.__name__]        = algo\n",
    "        algo_results[optimizer.__name__] = algo_result\n",
    "\n",
    "    print('\\rOptimization complete')\n",
    "    \n",
    "    # Formatting return data frame\n",
    "    results = pd.concat([df for df in dfs], keys=[optimizer.__name__ for optimizer in optimizers])\n",
    "    results['energy_diff'] = results['convergence_vals'].apply(lambda x: abs(x - ref))\n",
    "    results['percent_error'] = results['convergence_vals'].apply(lambda x: (abs(x - ref)/ref)*100)\n",
    "    \n",
    "    return_dict = {}\n",
    "    return_dict['file_name'] = file_path\n",
    "    return_dict['result_df'] = results\n",
    "    return_dict['reference_val'] = ref\n",
    "    return_dict['algos'] = algos\n",
    "    return_dict['algo_results'] = algo_results\n",
    "    \n",
    "    return return_dict\n",
    "\n",
    "def print_table(**result_dict):\n",
    "    \"\"\"Prints results of VQE simulation for each optimizer\n",
    "    \n",
    "    Args:\n",
    "        result_dict (dict): Dictionary returned from run_VQE function\n",
    "        \n",
    "    Returns: None\n",
    "    \"\"\"\n",
    "    \n",
    "    algo_results = result_dict['algo_results']\n",
    "    ref_val = result_dict['reference_val']\n",
    "    file_name = result_dict['file_name']\n",
    "    fn = file_name.split('/')[-1].replace(\".txt\", \"\")\n",
    "    \n",
    "    print(f'\\nHamiltonian: {fn}')\n",
    "    print(f'Reference Value: {ref_val}')\n",
    "    \n",
    "    optimizers = algo_results.keys()\n",
    "    vals = []\n",
    "    for opt in optimizers:\n",
    "        vals.append([opt, \n",
    "                     algo_results[opt]['energy'], \n",
    "                     abs((algo_results[opt]['energy'] - ref_val)/ref_val)*100])\n",
    "    \n",
    "    sorted_vals = sorted(vals, key=lambda x: x[2])\n",
    "    print(tabulate(sorted_vals, \n",
    "                   tablefmt=\"fancy_grid\", \n",
    "                   headers=['Optimizer', 'VQE Energy', '% Error'], \n",
    "                   numalign=\"right\"))"
   ]
  },
  {
   "cell_type": "markdown",
   "metadata": {},
   "source": [
    "# Visualizing Results"
   ]
  },
  {
   "cell_type": "code",
   "execution_count": 4,
   "metadata": {},
   "outputs": [],
   "source": [
    "def visualize_results(**result_dict):\n",
    "    \"\"\"Graphs optimizer energy convergence and convergence of most effective\n",
    "        optimizer.\n",
    "        \n",
    "    Args:\n",
    "        result_dict (dict): Dictionary returned from run_VQE function\n",
    "        \n",
    "    Returns: None\n",
    "    \"\"\" \n",
    "    result_df = result_dict['result_df']\n",
    "    algo_results = result_dict['algo_results']\n",
    "    ref_val = result_dict['reference_val']\n",
    "    \n",
    "    # Optimizer Convergence\n",
    "    plt.figure(figsize=(10, 5))\n",
    "    for opt in result_df.index.unique(0):\n",
    "        result_df['energy_diff'][opt].plot(logy=True, label=opt)\n",
    "        \n",
    "    plt.title('Optimizer Energy Convergence')\n",
    "    plt.xlabel('Eval count')\n",
    "    plt.ylabel('Energy difference from solution reference value')\n",
    "    plt.legend()\n",
    "    sns.despine()\n",
    "    plt.show();\n",
    "    \n",
    "    # Most effective optimizer\n",
    "    most_eff = sorted([(opt, \n",
    "                        result_df['percent_error'][opt].iloc[-1]) for opt in result_df.index.unique(0)], \n",
    "                      key=lambda x: x[1])\n",
    "    fig, ax = plt.subplots(figsize=(10, 5))\n",
    "    result_df['convergence_vals'][most_eff[0][0]].plot(label=f\"{most_eff[0][0]} = {algo_results[most_eff[0][0]]['energy']:.6f}\")\n",
    "\n",
    "    ax.hlines(y=ref_val, \n",
    "              xmin=0, \n",
    "              xmax=len(result_df['convergence_vals'][most_eff[0][0]]), \n",
    "              colors='r', \n",
    "              label=f'Exact = {ref_val:.6f}')\n",
    "\n",
    "    plt.title('Convergence', size=24)\n",
    "    plt.xlabel('Optimization Steps', size=18)\n",
    "    plt.ylabel('Energy', size=18)\n",
    "    plt.legend()\n",
    "    sns.despine()\n",
    "    plt.show();\n",
    "        \n",
    "def plt_state_vector(**result_dict):\n",
    "    \"\"\"Plots state vector for each optimizer\n",
    "    \n",
    "    Args:\n",
    "       result_dict (dict): Dictionary returned from run_VQE function \n",
    "    \n",
    "    Returns: None\n",
    "    \"\"\"\n",
    "    algos = result_dict['algos']\n",
    "    algo_results = result_dict['algo_results']\n",
    "    optimizers = result_dict['algos'].keys()\n",
    "    \n",
    "    for optimizer in optimizers:\n",
    "        circ = algos[optimizer].construct_circuit(algo_results[optimizer]['opt_params'])\n",
    "        \n",
    "        e0wf = execute(circ[0],\n",
    "                       Aer.get_backend('statevector_simulator'),\n",
    "                       shots=1).result().get_statevector(circ[0])\n",
    "        plt.figure(figsize=(10,5))\n",
    "        plt.plot(np.flip(e0wf.real))\n",
    "        plt.title(f'({optimizer}) State Vector', size=24)\n",
    "        sns.despine()\n",
    "        plt.show();"
   ]
  },
  {
   "cell_type": "markdown",
   "metadata": {},
   "source": [
    "# Harmonic Oscillator VQE"
   ]
  },
  {
   "cell_type": "code",
   "execution_count": 5,
   "metadata": {},
   "outputs": [],
   "source": [
    "def VQE_result(**kwargs):\n",
    "    \n",
    "    file_path = kwargs['file_path']\n",
    "    init_state_name = kwargs['init_state_name']\n",
    "    vf_name = kwargs['vf_name']\n",
    "    depth = kwargs['depth']\n",
    "    shots = kwargs['shots']\n",
    "    simulator = kwargs['simulator']\n",
    "    \n",
    "    # Loading matrix representation of Hamiltonian txt file\n",
    "    H = np.loadtxt(file_path)\n",
    "    \n",
    "    # Converting Hamiltonian to Matrix Operator\n",
    "    qubit_op = MatrixOperator(matrix=H)\n",
    "    \n",
    "    \n",
    "    \n",
    "    \n",
    "    # Converting to Pauli Operator\n",
    "    qubit_op = op_converter.to_weighted_pauli_operator(qubit_op)\n",
    "    #print(\"!! dense_matrix\", qubit_op.paulis)\n",
    "    \n",
    "    start = time.time()\n",
    "    \n",
    "    num_qubits = qubit_op.num_qubits\n",
    "    num_paulis = len(qubit_op.paulis)\n",
    "    num_qubits = qubit_op.num_qubits\n",
    "    #print(qubit_op.paulis)\n",
    "    #print(num_qubits, num_paulis, num_qubits,  \"!!!!!!!!!!!!!!!!!!!!\")\n",
    "    \n",
    "    print(f\"\"\"{num_paulis} Pauli factors \\n{round(time.time()-start)} s to process\"\"\")\n",
    "    \n",
    "    \n",
    "    \n",
    "    # Solving system exactly for reference value\n",
    "    ee = ExactEigensolver(qubit_op)\n",
    "    #print(ee)\n",
    "    result = ee.run()\n",
    "    \n",
    "    ref = result['energy']\n",
    "\n",
    "    # Setting initial state, variational form, and backend\n",
    "    init_state = init_state_name(num_qubits)\n",
    "    var_form = vf_name(num_qubits,\n",
    "                      depth=depth,\n",
    "                      entanglement='linear',\n",
    "                      initial_state=init_state)\n",
    "    \n",
    "    backend = BasicAer.get_backend(simulator)\n",
    "    \n",
    "\n",
    "    # Don't use SPSA if using a noiseless simulator\n",
    "    if simulator == 'statevector_simulator':\n",
    "        optimizers = [COBYLA, L_BFGS_B, SLSQP]  \n",
    "    else:\n",
    "        optimizers = [SPSA]\n",
    "    \n",
    "    # Initializing empty lists & dicts for storage\n",
    "    dfs = []\n",
    "    algos = {}\n",
    "    algo_results = {}\n",
    "    for optimizer in optimizers:\n",
    "        # For reproducibility\n",
    "        aqua_globals.random_seed = 250\n",
    "        print(f'\\rOptimizer: {optimizer.__name__}          ', end='')\n",
    "\n",
    "        counts = []\n",
    "        values = []\n",
    "        params = []\n",
    "        def store_intermediate_result(eval_count, parameters, mean, std):\n",
    "            counts.append(eval_count)\n",
    "            values.append(mean)\n",
    "            params.append(parameters)\n",
    "        \n",
    "        # Running VQE \n",
    "        algo = VQE(qubit_op, var_form, optimizer(), callback=store_intermediate_result)\n",
    "        quantum_instance = QuantumInstance(backend=backend, shots=shots)  \n",
    "        algo_result = algo.run(quantum_instance)\n",
    "        \n",
    "        \n",
    "        \n",
    "        \n",
    "        # Appending each optimizer data frame to one list\n",
    "        dfs.append(pd.DataFrame(values, columns=['convergence_vals'], index=counts))\n",
    "        algos[optimizer.__name__]        = algo\n",
    "        algo_results[optimizer.__name__] = algo_result\n",
    "\n",
    "    return algo_results      \n"
   ]
  },
  {
   "cell_type": "code",
   "execution_count": 6,
   "metadata": {},
   "outputs": [],
   "source": [
    "def classical_result(**kwargs):\n",
    "    \n",
    "    file_path = kwargs['file_path']\n",
    "    init_state_name = kwargs['init_state_name']\n",
    "    vf_name = kwargs['vf_name']\n",
    "    depth = kwargs['depth']\n",
    "    shots = kwargs['shots']\n",
    "    simulator = kwargs['simulator']\n",
    "    \n",
    "    # Loading matrix representation of Hamiltonian txt file\n",
    "    H = np.loadtxt(file_path)\n",
    "    \n",
    "    # Converting Hamiltonian to Matrix Operator\n",
    "    qubit_op = MatrixOperator(matrix=H)\n",
    "    \n",
    "    \n",
    "    \n",
    "    \n",
    "    # Converting to Pauli Operator\n",
    "    qubit_op = op_converter.to_weighted_pauli_operator(qubit_op)\n",
    "    #print(\"!! dense_matrix\", qubit_op.paulis)\n",
    "    \n",
    "    start = time.time()\n",
    "    \n",
    "    num_qubits = qubit_op.num_qubits\n",
    "    num_paulis = len(qubit_op.paulis)\n",
    "    num_qubits = qubit_op.num_qubits\n",
    "    \n",
    "    \n",
    "    \n",
    "    # Solving system exactly for reference value\n",
    "    ee = ExactEigensolver(qubit_op)\n",
    "    #print(ee)\n",
    "    result = ee.run()\n",
    "    return result\n",
    "    \n",
    "    \n",
    "    \n",
    "    "
   ]
  },
  {
   "cell_type": "code",
   "execution_count": 7,
   "metadata": {},
   "outputs": [
    {
     "name": "stdout",
     "output_type": "stream",
     "text": [
      "4 !!!!!\n",
      "39 Pauli factors \n",
      "0 s to process\n",
      "\r",
      "Optimizer: COBYLA          "
     ]
    },
    {
     "name": "stderr",
     "output_type": "stream",
     "text": [
      "C:\\Users\\matth\\anaconda3\\lib\\site-packages\\qiskit\\aqua\\algorithms\\eigen_solvers\\numpy_eigen_solver.py:242: DeprecationWarning: Deprecated class ExactEigensolver, use NumPyEigensolver.\n",
      "  DeprecationWarning)\n",
      "C:\\Users\\matth\\anaconda3\\lib\\site-packages\\qiskit\\aqua\\algorithms\\eigen_solvers\\eigen_solver_result.py:64: DeprecationWarning: energy deprecated, use eigenvalues property.\n",
      "  warnings.warn('energy deprecated, use eigenvalues property.', DeprecationWarning)\n",
      "C:\\Users\\matth\\anaconda3\\lib\\site-packages\\ipykernel_launcher.py:64: DeprecationWarning: The qiskit.aqua.components.variational_forms.RY object is deprecated as of 0.7.0 and will be removed no sooner than 3 months after the release. You should use qiskit.circuit.library.RealAmplitudes (uses CX entangling) or qiskit.circuit.library.TwoLocal instead.\n"
     ]
    },
    {
     "name": "stdout",
     "output_type": "stream",
     "text": [
      "Optimization complete        \n",
      "Upper bound for the ground state energy of the anharmonic oscillator: 1.08 eV\n",
      "Percent error: 2.05%\n",
      "4 !!!!!\n",
      "55 Pauli factors \n",
      "0 s to process\n",
      "Optimizer: COBYLA          "
     ]
    },
    {
     "name": "stderr",
     "output_type": "stream",
     "text": [
      "C:\\Users\\matth\\anaconda3\\lib\\site-packages\\qiskit\\aqua\\algorithms\\eigen_solvers\\numpy_eigen_solver.py:242: DeprecationWarning: Deprecated class ExactEigensolver, use NumPyEigensolver.\n",
      "  DeprecationWarning)\n",
      "C:\\Users\\matth\\anaconda3\\lib\\site-packages\\qiskit\\aqua\\algorithms\\eigen_solvers\\eigen_solver_result.py:64: DeprecationWarning: energy deprecated, use eigenvalues property.\n",
      "  warnings.warn('energy deprecated, use eigenvalues property.', DeprecationWarning)\n"
     ]
    },
    {
     "name": "stdout",
     "output_type": "stream",
     "text": [
      "Optimization complete        \n",
      "\n",
      "Hamiltonian: JA_adapted_anharmonic_oscillator_q=4\n",
      "Reference Value: 1.0630119698756715\n",
      "╒═════════════╤══════════════╤═══════════╕\n",
      "│ Optimizer   │   VQE Energy │   % Error │\n",
      "╞═════════════╪══════════════╪═══════════╡\n",
      "│ L_BFGS_B    │      1.06824 │    0.4922 │\n",
      "├─────────────┼──────────────┼───────────┤\n",
      "│ SLSQP       │      1.06824 │  0.492241 │\n",
      "├─────────────┼──────────────┼───────────┤\n",
      "│ COBYLA      │      3.72742 │   250.647 │\n",
      "╘═════════════╧══════════════╧═══════════╛\n"
     ]
    },
    {
     "name": "stderr",
     "output_type": "stream",
     "text": [
      "C:\\Users\\matth\\anaconda3\\lib\\site-packages\\qiskit\\aqua\\algorithms\\minimum_eigen_solvers\\minimum_eigen_solver.py:139: DeprecationWarning: energy deprecated, use eigenvalue property.\n",
      "  warnings.warn('energy deprecated, use eigenvalue property.', DeprecationWarning)\n",
      "C:\\Users\\matth\\anaconda3\\lib\\site-packages\\qiskit\\aqua\\algorithms\\minimum_eigen_solvers\\minimum_eigen_solver.py:139: DeprecationWarning: energy deprecated, use eigenvalue property.\n",
      "  warnings.warn('energy deprecated, use eigenvalue property.', DeprecationWarning)\n",
      "C:\\Users\\matth\\anaconda3\\lib\\site-packages\\qiskit\\aqua\\algorithms\\minimum_eigen_solvers\\minimum_eigen_solver.py:139: DeprecationWarning: energy deprecated, use eigenvalue property.\n",
      "  warnings.warn('energy deprecated, use eigenvalue property.', DeprecationWarning)\n",
      "C:\\Users\\matth\\anaconda3\\lib\\site-packages\\qiskit\\aqua\\algorithms\\minimum_eigen_solvers\\minimum_eigen_solver.py:139: DeprecationWarning: energy deprecated, use eigenvalue property.\n",
      "  warnings.warn('energy deprecated, use eigenvalue property.', DeprecationWarning)\n",
      "C:\\Users\\matth\\anaconda3\\lib\\site-packages\\qiskit\\aqua\\algorithms\\minimum_eigen_solvers\\minimum_eigen_solver.py:139: DeprecationWarning: energy deprecated, use eigenvalue property.\n",
      "  warnings.warn('energy deprecated, use eigenvalue property.', DeprecationWarning)\n",
      "C:\\Users\\matth\\anaconda3\\lib\\site-packages\\qiskit\\aqua\\algorithms\\minimum_eigen_solvers\\minimum_eigen_solver.py:139: DeprecationWarning: energy deprecated, use eigenvalue property.\n",
      "  warnings.warn('energy deprecated, use eigenvalue property.', DeprecationWarning)\n"
     ]
    }
   ],
   "source": [
    "h_osc_params = {\n",
    "    'file_path': r'JA_harmonic_oscillator_q=4.txt',\n",
    "    'init_state_name': Zero,\n",
    "    'vf_name': RY,\n",
    "    'depth': 3,\n",
    "    'shots': 1000,\n",
    "    'simulator': 'statevector_simulator'}\n",
    "\n",
    "harmonic_osc = run_VQE(**h_osc_params)\n",
    "\n",
    "anh_gs = (3/8) * (6 / (1/2)**2) ** (1/3)\n",
    "print(f'Upper bound for the ground state energy of the anharmonic oscillator: {anh_gs:.2f} eV')\n",
    "print(f'Percent error: {abs((anh_gs-1.06)/1.06)*100:.2f}%')\n",
    "\n",
    "\n",
    "anh_osc_params = {\n",
    "    'file_path': r'JA_adapted_anharmonic_oscillator_q=4.txt',\n",
    "    'init_state_name': Zero,\n",
    "    'vf_name': RY,\n",
    "    'depth': 5,\n",
    "    'shots': 5000,\n",
    "    'simulator': 'statevector_simulator'\n",
    "}\n",
    "\n",
    "anharmonic_osc = run_VQE(**anh_osc_params)\n",
    "print_table(**anharmonic_osc)"
   ]
  },
  {
   "cell_type": "code",
   "execution_count": 8,
   "metadata": {},
   "outputs": [
    {
     "name": "stdout",
     "output_type": "stream",
     "text": [
      "4 !!!!!\n",
      "55 Pauli factors \n",
      "0 s to process\n"
     ]
    },
    {
     "name": "stderr",
     "output_type": "stream",
     "text": [
      "C:\\Users\\matth\\anaconda3\\lib\\site-packages\\qiskit\\aqua\\algorithms\\eigen_solvers\\numpy_eigen_solver.py:242: DeprecationWarning: Deprecated class ExactEigensolver, use NumPyEigensolver.\n",
      "  DeprecationWarning)\n",
      "C:\\Users\\matth\\anaconda3\\lib\\site-packages\\qiskit\\aqua\\algorithms\\eigen_solvers\\eigen_solver_result.py:64: DeprecationWarning: energy deprecated, use eigenvalues property.\n",
      "  warnings.warn('energy deprecated, use eigenvalues property.', DeprecationWarning)\n",
      "C:\\Users\\matth\\anaconda3\\lib\\site-packages\\ipykernel_launcher.py:64: DeprecationWarning: The qiskit.aqua.components.variational_forms.RY object is deprecated as of 0.7.0 and will be removed no sooner than 3 months after the release. You should use qiskit.circuit.library.RealAmplitudes (uses CX entangling) or qiskit.circuit.library.TwoLocal instead.\n"
     ]
    },
    {
     "name": "stdout",
     "output_type": "stream",
     "text": [
      "Optimization complete        \n"
     ]
    },
    {
     "data": {
      "image/png": "[encoded data removed]",
      "text/plain": [
       "<Figure size 720x360 with 1 Axes>"
      ]
     },
     "metadata": {
      "needs_background": "light"
     },
     "output_type": "display_data"
    },
    {
     "name": "stderr",
     "output_type": "stream",
     "text": [
      "C:\\Users\\matth\\anaconda3\\lib\\site-packages\\qiskit\\aqua\\algorithms\\minimum_eigen_solvers\\minimum_eigen_solver.py:139: DeprecationWarning: energy deprecated, use eigenvalue property.\n",
      "  warnings.warn('energy deprecated, use eigenvalue property.', DeprecationWarning)\n"
     ]
    },
    {
     "data": {
      "image/png": "[encoded data removed]",
      "text/plain": [
       "<Figure size 720x360 with 1 Axes>"
      ]
     },
     "metadata": {
      "needs_background": "light"
     },
     "output_type": "display_data"
    }
   ],
   "source": [
    "anharmonic_osc = run_VQE(**anh_osc_params)\n",
    "\n",
    "\n",
    "visualize_results(**anharmonic_osc)"
   ]
  },
  {
   "cell_type": "markdown",
   "metadata": {},
   "source": [
    "The Variational method got us an upper bound that was roughly 2% away from the actual ground state energy. While this isn't exactly the ground state, for most applications 2% is well close enough to be able to use the value constructively ."
   ]
  },
  {
   "cell_type": "markdown",
   "metadata": {},
   "source": [
    "# Anharmonic Oscillator VQE"
   ]
  },
  {
   "cell_type": "code",
   "execution_count": 7,
   "metadata": {},
   "outputs": [
    {
     "name": "stdout",
     "output_type": "stream",
     "text": [
      "55 Pauli factors \n",
      "0 s to process\n",
      "Optimizer: COBYLA          "
     ]
    },
    {
     "name": "stderr",
     "output_type": "stream",
     "text": [
      "C:\\Users\\matth\\anaconda3\\lib\\site-packages\\qiskit\\aqua\\algorithms\\eigen_solvers\\numpy_eigen_solver.py:242: DeprecationWarning: Deprecated class ExactEigensolver, use NumPyEigensolver.\n",
      "  DeprecationWarning)\n",
      "C:\\Users\\matth\\anaconda3\\lib\\site-packages\\qiskit\\aqua\\algorithms\\eigen_solvers\\eigen_solver_result.py:64: DeprecationWarning: energy deprecated, use eigenvalues property.\n",
      "  warnings.warn('energy deprecated, use eigenvalues property.', DeprecationWarning)\n",
      "C:\\Users\\matth\\anaconda3\\lib\\site-packages\\ipykernel_launcher.py:47: DeprecationWarning: The qiskit.aqua.components.variational_forms.RY object is deprecated as of 0.7.0 and will be removed no sooner than 3 months after the release. You should use qiskit.circuit.library.RealAmplitudes (uses CX entangling) or qiskit.circuit.library.TwoLocal instead.\n"
     ]
    },
    {
     "name": "stdout",
     "output_type": "stream",
     "text": [
      "Optimizer: SLSQP             "
     ]
    },
    {
     "name": "stderr",
     "output_type": "stream",
     "text": [
      "C:\\Users\\matth\\anaconda3\\lib\\site-packages\\qiskit\\aqua\\algorithms\\eigen_solvers\\numpy_eigen_solver.py:242: DeprecationWarning: Deprecated class ExactEigensolver, use NumPyEigensolver.\n",
      "  DeprecationWarning)\n"
     ]
    }
   ],
   "source": [
    "results        = VQE_result(**anh_osc_params)\n",
    "class_results  = classical_result(**anh_osc_params)"
   ]
  },
  {
   "cell_type": "code",
   "execution_count": 8,
   "metadata": {},
   "outputs": [],
   "source": [
    "def unitize(a,b):\n",
    "    #real=a*a\n",
    "    #imag=b*-b*(-1)\n",
    "    trial=complex(a,b)\n",
    "    conj_trial=np.conj(trial)\n",
    "    answ=trial*conj_trial\n",
    "    \n",
    "    return answ\n",
    "\n",
    "def unitize_all(a_all,b_all):\n",
    "    unit_arr=[]\n",
    "    for i in range(0,len(a_all)):\n",
    "        unit_arr.append(unitize(a_all[i],b_all[i]))\n",
    "    \n",
    "    return unit_arr"
   ]
  },
  {
   "cell_type": "markdown",
   "metadata": {},
   "source": [
    "# Adapted code"
   ]
  },
  {
   "cell_type": "code",
   "execution_count": 7,
   "metadata": {
    "scrolled": true
   },
   "outputs": [
    {
     "name": "stdout",
     "output_type": "stream",
     "text": [
      "39 Pauli factors \n",
      "0 s to process\n",
      "\r",
      "Optimizer: COBYLA          "
     ]
    },
    {
     "name": "stderr",
     "output_type": "stream",
     "text": [
      "C:\\Users\\matth\\anaconda3\\lib\\site-packages\\qiskit\\aqua\\algorithms\\eigen_solvers\\numpy_eigen_solver.py:242: DeprecationWarning: Deprecated class ExactEigensolver, use NumPyEigensolver.\n",
      "  DeprecationWarning)\n",
      "C:\\Users\\matth\\anaconda3\\lib\\site-packages\\qiskit\\aqua\\algorithms\\eigen_solvers\\eigen_solver_result.py:64: DeprecationWarning: energy deprecated, use eigenvalues property.\n",
      "  warnings.warn('energy deprecated, use eigenvalues property.', DeprecationWarning)\n",
      "C:\\Users\\matth\\anaconda3\\lib\\site-packages\\ipykernel_launcher.py:47: DeprecationWarning: The qiskit.aqua.components.variational_forms.RY object is deprecated as of 0.7.0 and will be removed no sooner than 3 months after the release. You should use qiskit.circuit.library.RealAmplitudes (uses CX entangling) or qiskit.circuit.library.TwoLocal instead.\n"
     ]
    },
    {
     "name": "stdout",
     "output_type": "stream",
     "text": [
      "Optimizer: SLSQP             "
     ]
    },
    {
     "name": "stderr",
     "output_type": "stream",
     "text": [
      "C:\\Users\\matth\\anaconda3\\lib\\site-packages\\qiskit\\aqua\\algorithms\\eigen_solvers\\numpy_eigen_solver.py:242: DeprecationWarning: Deprecated class ExactEigensolver, use NumPyEigensolver.\n",
      "  DeprecationWarning)\n"
     ]
    },
    {
     "name": "stdout",
     "output_type": "stream",
     "text": [
      "55 Pauli factors \n",
      "0 s to process\n",
      "\r",
      "Optimizer: COBYLA          "
     ]
    },
    {
     "name": "stderr",
     "output_type": "stream",
     "text": [
      "C:\\Users\\matth\\anaconda3\\lib\\site-packages\\qiskit\\aqua\\algorithms\\eigen_solvers\\numpy_eigen_solver.py:242: DeprecationWarning: Deprecated class ExactEigensolver, use NumPyEigensolver.\n",
      "  DeprecationWarning)\n",
      "C:\\Users\\matth\\anaconda3\\lib\\site-packages\\qiskit\\aqua\\algorithms\\eigen_solvers\\eigen_solver_result.py:64: DeprecationWarning: energy deprecated, use eigenvalues property.\n",
      "  warnings.warn('energy deprecated, use eigenvalues property.', DeprecationWarning)\n"
     ]
    },
    {
     "name": "stdout",
     "output_type": "stream",
     "text": [
      "Optimizer: SLSQP             "
     ]
    },
    {
     "name": "stderr",
     "output_type": "stream",
     "text": [
      "C:\\Users\\matth\\anaconda3\\lib\\site-packages\\qiskit\\aqua\\algorithms\\eigen_solvers\\numpy_eigen_solver.py:242: DeprecationWarning: Deprecated class ExactEigensolver, use NumPyEigensolver.\n",
      "  DeprecationWarning)\n"
     ]
    }
   ],
   "source": [
    "\n",
    "h_osc_results        = VQE_result(**h_osc_params)\n",
    "h_osc_class_results  = classical_result(**h_osc_params)\n",
    "\n",
    "anh_osc_results        = VQE_result(**anh_osc_params)\n",
    "anh_osc_class_results  = classical_result(**anh_osc_params)\n",
    "\n",
    "\n",
    "\n",
    "#COBYLA, L_BFGS_B, SLSQP\n",
    "#h_osc_results['COBYLA']['eigenstate']"
   ]
  },
  {
   "cell_type": "code",
   "execution_count": 32,
   "metadata": {},
   "outputs": [
    {
     "name": "stdout",
     "output_type": "stream",
     "text": [
      "[(1+0j), (3.9770790244716543e-28+0j), (0.12319533883066323+0j), (2.0172030234222777e-28+0j), (0.018547210151084823+0j), (7.919345586471196e-29+0j), (0.0020747651472072994+0j), (2.69843069343348e-29+0j), (6.591365816991125e-05+0j), (7.185500101548047e-30+0j), (2.3323869757005533e-05+0j), (4.888264932866247e-31+0j), (4.467284362016568e-05+0j), (1.140489734821995e-31+0j), (1.585485487401111e-05+0j), (8.93317108145492e-31+0j)] \n",
      "\n",
      "\n",
      "[1.14048973e-31+0.j 4.88826493e-31+0.j 8.93317108e-31+0.j\n",
      " 7.18550010e-30+0.j 2.69843069e-29+0.j 7.91934559e-29+0.j\n",
      " 2.01720302e-28+0.j 3.97707902e-28+0.j 1.58548549e-05+0.j\n",
      " 2.33238698e-05+0.j 4.46728436e-05+0.j 6.59136582e-05+0.j\n",
      " 2.07476515e-03+0.j 1.85472102e-02+0.j 1.23195339e-01+0.j\n",
      " 1.00000000e+00+0.j] \n",
      "\n",
      "\n",
      "[1.00000000e+00+0.j 1.23195339e-01+0.j 1.85472102e-02+0.j\n",
      " 2.07476515e-03+0.j 6.59136582e-05+0.j 4.46728436e-05+0.j\n",
      " 2.33238698e-05+0.j 1.58548549e-05+0.j 3.97707902e-28+0.j\n",
      " 2.01720302e-28+0.j 7.91934559e-29+0.j 2.69843069e-29+0.j\n",
      " 7.18550010e-30+0.j 8.93317108e-31+0.j 4.88826493e-31+0.j\n",
      " 1.14048973e-31+0.j] \n",
      "\n",
      "\n",
      "[9.12391787857596e-31, 4.215480182889546e-31, 9.941124081800286e-32, 7.454112587973198e-32, 7.114537532886839e-33, 1.061339060875431e-32, 9.409796118347797e-33, 6.305601075547176e-33, 0.0, 4.7048980591738985e-33, 7.07559373916954e-33, 5.335903149665129e-33, 5.963290070378559e-32, 8.284270068166904e-32, 3.613268728191039e-31, 7.983428143753964e-31]\n"
     ]
    },
    {
     "data": {
      "image/png": "[encoded data removed]",
      "text/plain": [
       "<Figure size 432x288 with 1 Axes>"
      ]
     },
     "metadata": {
      "needs_background": "light"
     },
     "output_type": "display_data"
    }
   ],
   "source": [
    "#print(anh_osc_class_results['eigenstates'][0])\n",
    "an_harm_class=[-8.95091289e-01-2.70115926e-01j,\n",
    "              1.86448476e-14-1.62573636e-16j,\n",
    "              3.14169824e-01+9.48085118e-02j,\n",
    "             -1.32734484e-14+3.86752453e-16j,\n",
    "             -1.21900820e-01-3.67865862e-02j,\n",
    "              8.31548214e-15-2.82484908e-16j,\n",
    "              4.07710412e-02+1.23036697e-02j,\n",
    "             -4.84528341e-15+3.34048430e-16j,\n",
    "             -7.26699796e-03-2.19299630e-03j,\n",
    "              2.49345557e-15-2.52767935e-16j,\n",
    "             -4.32282480e-03-1.30451926e-03j,\n",
    "             -6.21637889e-16+2.02174472e-16j,\n",
    "              5.98258847e-03+1.80539398e-03j,\n",
    "             -1.64798094e-16-2.69328082e-16j,\n",
    "             -3.56408839e-03-1.07555179e-03j,\n",
    "              8.56295296e-16+2.18294378e-16j]   \n",
    "\n",
    "conj       =np.conj(an_harm_class)\n",
    "non_conj   =an_harm_class\n",
    "\n",
    "posi=range(-8,8)\n",
    "\n",
    "\n",
    "psi_x=[]\n",
    "for i in range(0,16):\n",
    "    psi_x.append(non_conj[i]*conj[i])\n",
    "    \n",
    "unitary=psi_x\n",
    "\n",
    "ma=max(unitary)\n",
    "for i in range(0,len(unitary)):\n",
    "    unitary[i]=unitary[i]/ma\n",
    "    \n",
    "\n",
    "sor=np.sort(unitary)\n",
    "insor=sor[::-1]\n",
    "\n",
    "lets_see=[]\n",
    "for i in range(0,len(sor)):\n",
    "    lets_see.append(sor[i]*posi[i]*insor[i])\n",
    "\n",
    "for j in range(0,len(lets_see)):\n",
    "    sub=abs(lets_see[j])\n",
    "    lets_see[j]=sub\n",
    "    \n",
    "    \n",
    "print(unitary, '\\n\\n')\n",
    "print(sor, \"\\n\\n\")\n",
    "print(insor, \"\\n\\n\")\n",
    "    \n",
    "print(lets_see)\n",
    "plt.plot(posi, lets_see)\n",
    "plt.show()"
   ]
  },
  {
   "cell_type": "code",
   "execution_count": 21,
   "metadata": {},
   "outputs": [
    {
     "data": {
      "text/plain": [
       "array([-9.33829862e-01+1.81924840e-15j,  0.00000000e+00+0.00000000e+00j,\n",
       "        3.28833894e-01-9.51433578e-16j,  0.00000000e+00+0.00000000e+00j,\n",
       "       -1.30852736e-01-3.07008457e-17j,  0.00000000e+00+0.00000000e+00j,\n",
       "        4.89898259e-02+1.11431436e-18j,  0.00000000e+00+0.00000000e+00j,\n",
       "       -1.64646774e-02+9.05472059e-17j,  0.00000000e+00+0.00000000e+00j,\n",
       "        5.83598887e-03-3.71805947e-17j,  0.00000000e+00+0.00000000e+00j,\n",
       "       -1.54300275e-03-2.68810276e-18j,  0.00000000e+00+0.00000000e+00j,\n",
       "        3.05035541e-04+1.75443427e-19j,  0.00000000e+00+0.00000000e+00j])"
      ]
     },
     "execution_count": 21,
     "metadata": {},
     "output_type": "execute_result"
    }
   ],
   "source": [
    "anh_osc_results['L_BFGS_B']['eigenstate']\n",
    "#anh_osc_results['SLSQP']['eigenstate']\n"
   ]
  },
  {
   "cell_type": "code",
   "execution_count": 33,
   "metadata": {},
   "outputs": [
    {
     "name": "stdout",
     "output_type": "stream",
     "text": [
      "[(1+0j), (3.4699298835921047e-09+0j), (0.05557707799750389+0j), (2.3307042713232595e-09+0j), (0.004629890643622151+0j), (1.1603661607335697e-09+0j), (0.0004159212585219159+0j), (2.4749417704938395e-08+0j), (3.969412265774241e-05+0j), (1.356089894580178e-10+0j), (2.304542821912259e-06+0j), (1.4187271611260988e-09+0j), (2.274574097568307e-07+0j), (1.6812260157389824e-08+0j), (1.1482076718829241e-07+0j), (3.0271094480145154e-07+0j)] \n",
      "\n",
      "\n",
      "[1.35608989e-10+0.j 1.16036616e-09+0.j 1.41872716e-09+0.j\n",
      " 2.33070427e-09+0.j 3.46992988e-09+0.j 1.68122602e-08+0.j\n",
      " 2.47494177e-08+0.j 1.14820767e-07+0.j 2.27457410e-07+0.j\n",
      " 3.02710945e-07+0.j 2.30454282e-06+0.j 3.96941227e-05+0.j\n",
      " 4.15921259e-04+0.j 4.62989064e-03+0.j 5.55770780e-02+0.j\n",
      " 1.00000000e+00+0.j] \n",
      "\n",
      "\n",
      "[1.00000000e+00+0.j 5.55770780e-02+0.j 4.62989064e-03+0.j\n",
      " 4.15921259e-04+0.j 3.96941227e-05+0.j 2.30454282e-06+0.j\n",
      " 3.02710945e-07+0.j 2.27457410e-07+0.j 1.14820767e-07+0.j\n",
      " 2.47494177e-08+0.j 1.68122602e-08+0.j 3.46992988e-09+0.j\n",
      " 2.33070427e-09+0.j 1.41872716e-09+0.j 1.16036616e-09+0.j\n",
      " 1.35608989e-10+0.j] \n",
      "\n",
      "\n",
      "[1.0848719156641424e-09, 4.514283243452761e-10, 3.941130965490204e-11, 4.8469472688558746e-12, 5.509432896522834e-13, 1.1623372039750258e-13, 1.498383923349535e-14, 2.611683429094109e-14, 0.0, 7.491919616747675e-15, 7.748914693166838e-14, 4.1320746723921254e-13, 3.8775578150847e-12, 3.28427580457517e-11, 3.869385637245224e-10, 9.492629262061247e-10]\n"
     ]
    },
    {
     "data": {
      "image/png": "[encoded data removed]",
      "text/plain": [
       "<Figure size 432x288 with 1 Axes>"
      ]
     },
     "metadata": {
      "needs_background": "light"
     },
     "output_type": "display_data"
    }
   ],
   "source": [
    "conj       =np.conj(h_osc_results['SLSQP']['eigenstate'])\n",
    "non_conj   =h_osc_results['SLSQP']['eigenstate']\n",
    "\n",
    "posi=range(-8,8)\n",
    "\n",
    "\n",
    "psi_x=[]\n",
    "for i in range(0,16):\n",
    "    psi_x.append(non_conj[i]*conj[i])\n",
    "    \n",
    "unitary=psi_x #np.real(psi_x)\n",
    "\n",
    "ma=max(unitary)\n",
    "for i in range(0,len(unitary)):\n",
    "    unitary[i]=unitary[i]/ma\n",
    "    \n",
    "\n",
    "sor=np.sort(unitary)\n",
    "insor=sor[::-1]\n",
    "\n",
    "lets_see=[]\n",
    "for i in range(0,len(sor)):\n",
    "    lets_see.append(sor[i]*posi[i]*insor[i])\n",
    "\n",
    "for j in range(0,len(lets_see)):\n",
    "    sub=abs(lets_see[j])\n",
    "    lets_see[j]=sub\n",
    "    \n",
    "    \n",
    "print(unitary, '\\n\\n')\n",
    "print(sor, \"\\n\\n\")\n",
    "print(insor, \"\\n\\n\")\n",
    "    \n",
    "print(lets_see)\n",
    "plt.plot(posi, lets_see)\n",
    "plt.show()"
   ]
  },
  {
   "cell_type": "code",
   "execution_count": 31,
   "metadata": {},
   "outputs": [
    {
     "name": "stdout",
     "output_type": "stream",
     "text": [
      "16\n",
      "16\n",
      "-8    3.916041663934811e-14\n",
      "-7    4.596769030317528e-15\n",
      "-6    5.485794966207043e-15\n",
      "-5    4.834204890062278e-15\n",
      "-4    1.0535004601402282e-14\n",
      "-3    4.304462679152319e-15\n",
      "-2    4.618087212604685e-16\n",
      "-1    9.593529125191275e-18\n",
      "0    0.0\n",
      "1    2.3090436063023426e-16\n",
      "2    2.8696417861015463e-15\n",
      "3    7.901253451051712e-15\n",
      "4    3.867363912049822e-15\n",
      "5    4.571495805172536e-15\n",
      "6    3.9400877402721666e-15\n",
      "7    3.42653645594296e-14\n",
      "[3.916041663934811e-14, 4.596769030317528e-15, 5.485794966207043e-15, 4.834204890062278e-15, 1.0535004601402282e-14, 4.304462679152319e-15, 4.618087212604685e-16, 9.593529125191275e-18, 0.0, 2.3090436063023426e-16, 2.8696417861015463e-15, 7.901253451051712e-15, 3.867363912049822e-15, 4.571495805172536e-15, 3.9400877402721666e-15, 3.42653645594296e-14]\n"
     ]
    },
    {
     "data": {
      "image/png": "[encoded data removed]",
      "text/plain": [
       "<Figure size 432x288 with 1 Axes>"
      ]
     },
     "metadata": {
      "needs_background": "light"
     },
     "output_type": "display_data"
    }
   ],
   "source": [
    "conj       =np.conj(anh_osc_results['SLSQP']['eigenstate'])\n",
    "non_conj   =anh_osc_results['SLSQP']['eigenstate']\n",
    "\n",
    "posi=range(-8,8)\n",
    "\n",
    "\n",
    "psi_x=[]\n",
    "for i in range(0,16):\n",
    "    psi_x.append(non_conj[i]*conj[i])\n",
    "    \n",
    "unitary=np.real(psi_x)\n",
    "\n",
    "ma=max(unitary)\n",
    "for i in range(0,len(unitary)):\n",
    "    unitary[i]=unitary[i]/ma\n",
    "\n",
    "sub_unitary=[]\n",
    "for i in range(0,len(unitary)):\n",
    "    if unitary[i]!=0:\n",
    "        sub_unitary.append(unitary[i])\n",
    " \n",
    "unitary=[]\n",
    "unitary=sub_unitary    \n",
    "\n",
    "sor=np.sort(unitary)\n",
    "insor=sor[::-1]\n",
    "\n",
    "lets_see=[]\n",
    "\n",
    "for i in range(0,len(sor)):\n",
    "    lets_see.append(sor[i]*posi[i]*insor[i])\n",
    "\n",
    "\n",
    "  \n",
    "for j in range(0,len(lets_see)):\n",
    "    sub=abs(lets_see[j])\n",
    "    lets_see[j]=sub\n",
    "    \n",
    "    print(posi[j],\"  \", lets_see[j])\n",
    "    \n",
    "    \n",
    "    \n",
    "    \n",
    "\n",
    "#print(unitary, '\\n\\n')\n",
    "#print(sor, \"\\n\\n\")\n",
    "#print(insor, \"\\n\\n\")\n",
    "    \n",
    "print(lets_see)\n",
    "plt.plot(posi, lets_see)\n",
    "plt.show()"
   ]
  },
  {
   "cell_type": "code",
   "execution_count": 40,
   "metadata": {},
   "outputs": [
    {
     "ename": "TypeError",
     "evalue": "loop of ufunc does not support argument 0 of type VectorStateFn which has no callable conjugate method",
     "output_type": "error",
     "traceback": [
      "\u001b[1;31m---------------------------------------------------------------------------\u001b[0m",
      "\u001b[1;31mAttributeError\u001b[0m                            Traceback (most recent call last)",
      "\u001b[1;31mAttributeError\u001b[0m: 'VectorStateFn' object has no attribute 'conjugate'",
      "\nThe above exception was the direct cause of the following exception:\n",
      "\u001b[1;31mTypeError\u001b[0m                                 Traceback (most recent call last)",
      "\u001b[1;32m<ipython-input-40-99b5180746ef>\u001b[0m in \u001b[0;36m<module>\u001b[1;34m\u001b[0m\n\u001b[0;32m      1\u001b[0m \u001b[0manh_osc_class_results\u001b[0m\u001b[1;33m\u001b[0m\u001b[1;33m\u001b[0m\u001b[0m\n\u001b[0;32m      2\u001b[0m \u001b[1;33m\u001b[0m\u001b[0m\n\u001b[1;32m----> 3\u001b[1;33m \u001b[0mconj\u001b[0m       \u001b[1;33m=\u001b[0m\u001b[0mnp\u001b[0m\u001b[1;33m.\u001b[0m\u001b[0mconj\u001b[0m\u001b[1;33m(\u001b[0m\u001b[0manh_osc_class_results\u001b[0m\u001b[1;33m[\u001b[0m\u001b[1;34m'eigenstates'\u001b[0m\u001b[1;33m]\u001b[0m\u001b[1;33m)\u001b[0m\u001b[1;33m\u001b[0m\u001b[1;33m\u001b[0m\u001b[0m\n\u001b[0m\u001b[0;32m      4\u001b[0m \u001b[0mnon_conj\u001b[0m   \u001b[1;33m=\u001b[0m\u001b[0manh_osc_class_results\u001b[0m\u001b[1;33m[\u001b[0m\u001b[1;34m'eigenstates'\u001b[0m\u001b[1;33m]\u001b[0m\u001b[1;33m\u001b[0m\u001b[1;33m\u001b[0m\u001b[0m\n\u001b[0;32m      5\u001b[0m \u001b[1;33m\u001b[0m\u001b[0m\n",
      "\u001b[1;31mTypeError\u001b[0m: loop of ufunc does not support argument 0 of type VectorStateFn which has no callable conjugate method"
     ]
    }
   ],
   "source": [
    "anh_osc_class_results\n",
    "\n",
    "conj       =np.conj(anh_osc_class_results['eigenstates'])\n",
    "non_conj   =anh_osc_class_results['eigenstates']\n",
    "\n",
    "posi=range(-8,8)\n",
    "\n",
    "\n",
    "psi_x=[]\n",
    "for i in range(0,16):\n",
    "    psi_x.append(non_conj[i]*conj[i])\n",
    "    \n",
    "unitary=np.real(psi_x)\n",
    "\n",
    "ma=max(unitary)\n",
    "for i in range(0,len(unitary)):\n",
    "    unitary[i]=unitary[i]/ma\n",
    "\n",
    "sub_unitary=[]\n",
    "for i in range(0,len(unitary)):\n",
    "    if unitary[i]!=0:\n",
    "        sub_unitary.append(unitary[i])\n",
    " \n",
    "unitary=[]\n",
    "unitary=sub_unitary    \n",
    "\n",
    "sor=np.sort(unitary)\n",
    "insor=sor[::-1]\n",
    "\n",
    "lets_see=[]\n",
    "\n",
    "for i in range(0,len(sor)):\n",
    "    lets_see.append(sor[i]*posi[i]*insor[i])\n",
    "\n",
    "\n",
    "  \n",
    "for j in range(0,len(lets_see)):\n",
    "    sub=abs(lets_see[j])\n",
    "    lets_see[j]=sub\n",
    "    \n",
    "    print(posi[j],\"  \", lets_see[j])\n",
    "    \n",
    "    \n",
    "    \n",
    "    \n",
    "\n",
    "#print(unitary, '\\n\\n')\n",
    "#print(sor, \"\\n\\n\")\n",
    "#print(insor, \"\\n\\n\")\n",
    "    \n",
    "print(lets_see)\n",
    "plt.plot(posi, lets_see)\n",
    "plt.show()"
   ]
  },
  {
   "cell_type": "code",
   "execution_count": 35,
   "metadata": {},
   "outputs": [
    {
     "ename": "NameError",
     "evalue": "name 'x' is not defined",
     "output_type": "error",
     "traceback": [
      "\u001b[1;31m---------------------------------------------------------------------------\u001b[0m",
      "\u001b[1;31mNameError\u001b[0m                                 Traceback (most recent call last)",
      "\u001b[1;32m<ipython-input-35-d6bd7fe19340>\u001b[0m in \u001b[0;36m<module>\u001b[1;34m\u001b[0m\n\u001b[0;32m      9\u001b[0m     \u001b[1;32mfor\u001b[0m \u001b[0mj\u001b[0m \u001b[1;32min\u001b[0m \u001b[0mrange\u001b[0m\u001b[1;33m(\u001b[0m\u001b[0mN\u001b[0m\u001b[1;33m-\u001b[0m\u001b[1;36m2\u001b[0m\u001b[1;33m)\u001b[0m\u001b[1;33m:\u001b[0m\u001b[1;33m\u001b[0m\u001b[1;33m\u001b[0m\u001b[0m\n\u001b[0;32m     10\u001b[0m         \u001b[1;32mif\u001b[0m \u001b[0mi\u001b[0m\u001b[1;33m==\u001b[0m\u001b[0mj\u001b[0m\u001b[1;33m:\u001b[0m\u001b[1;33m\u001b[0m\u001b[1;33m\u001b[0m\u001b[0m\n\u001b[1;32m---> 11\u001b[1;33m             \u001b[0mV\u001b[0m\u001b[1;33m[\u001b[0m\u001b[0mi\u001b[0m\u001b[1;33m,\u001b[0m\u001b[0mj\u001b[0m\u001b[1;33m]\u001b[0m\u001b[1;33m=\u001b[0m \u001b[0mVpot\u001b[0m\u001b[1;33m(\u001b[0m\u001b[0mx\u001b[0m\u001b[1;33m[\u001b[0m\u001b[0mi\u001b[0m\u001b[1;33m+\u001b[0m\u001b[1;36m1\u001b[0m\u001b[1;33m]\u001b[0m\u001b[1;33m)\u001b[0m\u001b[1;33m\u001b[0m\u001b[1;33m\u001b[0m\u001b[0m\n\u001b[0m\u001b[0;32m     12\u001b[0m         \u001b[1;32melse\u001b[0m\u001b[1;33m:\u001b[0m\u001b[1;33m\u001b[0m\u001b[1;33m\u001b[0m\u001b[0m\n\u001b[0;32m     13\u001b[0m             \u001b[0mV\u001b[0m\u001b[1;33m[\u001b[0m\u001b[0mi\u001b[0m\u001b[1;33m,\u001b[0m\u001b[0mj\u001b[0m\u001b[1;33m]\u001b[0m\u001b[1;33m=\u001b[0m\u001b[1;36m0\u001b[0m\u001b[1;33m\u001b[0m\u001b[1;33m\u001b[0m\u001b[0m\n",
      "\u001b[1;31mNameError\u001b[0m: name 'x' is not defined"
     ]
    }
   ],
   "source": [
    "N=1000\n",
    "def Vpot(x):\n",
    "    return x**4\n",
    "\n",
    "\n",
    "\n",
    "V = np.zeros((N-2)**2).reshape(N-2,N-2)\n",
    "for i in range(N-2):\n",
    "    for j in range(N-2):\n",
    "        if i==j:\n",
    "            V[i,j]= Vpot(x[i+1])\n",
    "        else:\n",
    "            V[i,j]=0"
   ]
  },
  {
   "cell_type": "code",
   "execution_count": 20,
   "metadata": {
    "scrolled": true
   },
   "outputs": [
    {
     "name": "stdout",
     "output_type": "stream",
     "text": [
      "[0.94280423 0.         0.         0.         0.         0.\n",
      " 0.         0.         0.         0.         0.         0.\n",
      " 0.         0.         0.         0.        ]\n",
      "[0.00000000e+00 3.27146458e-09 0.00000000e+00 0.00000000e+00\n",
      " 0.00000000e+00 0.00000000e+00 0.00000000e+00 0.00000000e+00\n",
      " 0.00000000e+00 0.00000000e+00 0.00000000e+00 0.00000000e+00\n",
      " 0.00000000e+00 0.00000000e+00 0.00000000e+00 0.00000000e+00]\n",
      "[0.        0.        0.0523983 0.        0.        0.        0.\n",
      " 0.        0.        0.        0.        0.        0.        0.\n",
      " 0.        0.       ]\n",
      "[0.00000000e+00 0.00000000e+00 0.00000000e+00 2.19739785e-09\n",
      " 0.00000000e+00 0.00000000e+00 0.00000000e+00 0.00000000e+00\n",
      " 0.00000000e+00 0.00000000e+00 0.00000000e+00 0.00000000e+00\n",
      " 0.00000000e+00 0.00000000e+00 0.00000000e+00 0.00000000e+00]\n",
      "[0.         0.         0.         0.         0.00436508 0.\n",
      " 0.         0.         0.         0.         0.         0.\n",
      " 0.         0.         0.         0.        ]\n",
      "[0.00000000e+00 0.00000000e+00 0.00000000e+00 0.00000000e+00\n",
      " 0.00000000e+00 1.09399813e-09 0.00000000e+00 0.00000000e+00\n",
      " 0.00000000e+00 0.00000000e+00 0.00000000e+00 0.00000000e+00\n",
      " 0.00000000e+00 0.00000000e+00 0.00000000e+00 0.00000000e+00]\n",
      "[0.         0.         0.         0.         0.         0.\n",
      " 0.00039213 0.         0.         0.         0.         0.\n",
      " 0.         0.         0.         0.        ]\n",
      "[0.00000000e+00 0.00000000e+00 0.00000000e+00 0.00000000e+00\n",
      " 0.00000000e+00 0.00000000e+00 0.00000000e+00 2.33338557e-08\n",
      " 0.00000000e+00 0.00000000e+00 0.00000000e+00 0.00000000e+00\n",
      " 0.00000000e+00 0.00000000e+00 0.00000000e+00 0.00000000e+00]\n",
      "[0.00000000e+00 0.00000000e+00 0.00000000e+00 0.00000000e+00\n",
      " 0.00000000e+00 0.00000000e+00 0.00000000e+00 0.00000000e+00\n",
      " 3.74237868e-05 0.00000000e+00 0.00000000e+00 0.00000000e+00\n",
      " 0.00000000e+00 0.00000000e+00 0.00000000e+00 0.00000000e+00]\n",
      "[0.00000000e+00 0.00000000e+00 0.00000000e+00 0.00000000e+00\n",
      " 0.00000000e+00 0.00000000e+00 0.00000000e+00 0.00000000e+00\n",
      " 0.00000000e+00 1.27852729e-10 0.00000000e+00 0.00000000e+00\n",
      " 0.00000000e+00 0.00000000e+00 0.00000000e+00 0.00000000e+00]\n",
      "[0.00000000e+00 0.00000000e+00 0.00000000e+00 0.00000000e+00\n",
      " 0.00000000e+00 0.00000000e+00 0.00000000e+00 0.00000000e+00\n",
      " 0.00000000e+00 0.00000000e+00 2.17273272e-06 0.00000000e+00\n",
      " 0.00000000e+00 0.00000000e+00 0.00000000e+00 0.00000000e+00]\n",
      "[0.00000000e+00 0.00000000e+00 0.00000000e+00 0.00000000e+00\n",
      " 0.00000000e+00 0.00000000e+00 0.00000000e+00 0.00000000e+00\n",
      " 0.00000000e+00 0.00000000e+00 0.00000000e+00 1.33758197e-09\n",
      " 0.00000000e+00 0.00000000e+00 0.00000000e+00 0.00000000e+00]\n",
      "[0.00000000e+00 0.00000000e+00 0.00000000e+00 0.00000000e+00\n",
      " 0.00000000e+00 0.00000000e+00 0.00000000e+00 0.00000000e+00\n",
      " 0.00000000e+00 0.00000000e+00 0.00000000e+00 0.00000000e+00\n",
      " 2.14447808e-07 0.00000000e+00 0.00000000e+00 0.00000000e+00]\n",
      "[0.000000e+00 0.000000e+00 0.000000e+00 0.000000e+00 0.000000e+00\n",
      " 0.000000e+00 0.000000e+00 0.000000e+00 0.000000e+00 0.000000e+00\n",
      " 0.000000e+00 0.000000e+00 0.000000e+00 1.585067e-08 0.000000e+00\n",
      " 0.000000e+00]\n",
      "[0.00000000e+00 0.00000000e+00 0.00000000e+00 0.00000000e+00\n",
      " 0.00000000e+00 0.00000000e+00 0.00000000e+00 0.00000000e+00\n",
      " 0.00000000e+00 0.00000000e+00 0.00000000e+00 0.00000000e+00\n",
      " 0.00000000e+00 0.00000000e+00 1.08253505e-07 0.00000000e+00]\n",
      "[0.0000000e+00 0.0000000e+00 0.0000000e+00 0.0000000e+00 0.0000000e+00\n",
      " 0.0000000e+00 0.0000000e+00 0.0000000e+00 0.0000000e+00 0.0000000e+00\n",
      " 0.0000000e+00 0.0000000e+00 0.0000000e+00 0.0000000e+00 0.0000000e+00\n",
      " 2.8539716e-07]\n",
      "(16, 16)\n",
      "0.942804231071995\n",
      "3.271464575773791e-09\n",
      "0.05239830428666494\n",
      "2.1973978483811397e-09\n",
      "0.004365080488207605\n",
      "1.093998125932376e-09\n",
      "0.0003921323223272513\n",
      "2.333385572878406e-08\n",
      "3.7423786790410286e-05\n",
      "1.2785272903241674e-10\n",
      "2.172732723185473e-06\n",
      "1.3375819702464458e-09\n",
      "2.1444780830741645e-07\n",
      "1.585067001027025e-08\n",
      "1.0825350512005457e-07\n",
      "2.853971595506096e-07\n"
     ]
    },
    {
     "name": "stderr",
     "output_type": "stream",
     "text": [
      "C:\\Users\\matth\\anaconda3\\lib\\site-packages\\ipykernel_launcher.py:19: ComplexWarning: Casting complex values to real discards the imaginary part\n"
     ]
    }
   ],
   "source": [
    "\n",
    "#COBYLA, L_BFGS_B, SLSQP\n",
    "#h_osc_results['COBYLA']['eigenstate']\n",
    "\n",
    "#h_osc_results['L_BFGS_B']['eigenstate']\n",
    "\n",
    "#for i in h_osc_results['SLSQP']['eigenstate']:\n",
    "#    print(i)\n",
    "\n",
    "\n",
    "unit=unitize_all(h_osc_results['SLSQP']['eigenstate'].real,h_osc_results['SLSQP']['eigenstate'].imag)\n",
    "\n",
    "\n",
    "\n",
    "    \n",
    "unit_M = np.zeros((len(unit))**2).reshape(len(unit),len(unit))\n",
    "for i in range(0,len(unit)):\n",
    "    for j in range(0,len(unit)):\n",
    "        if i==j:\n",
    "            unit_M[i,j]= unit[i]\n",
    "        else:\n",
    "            unit_M[i,j]=0\n",
    "\n",
    "for i in unit_M:\n",
    "    print(i)\n",
    "\n",
    "print(np.shape(unit_M))\n",
    "for i in range(0,len(unit)):\n",
    "    for j in range(0,len(unit)):\n",
    "        if i==j:\n",
    "            print(unit_M[i,j])\n",
    "    "
   ]
  },
  {
   "cell_type": "code",
   "execution_count": 26,
   "metadata": {},
   "outputs": [
    {
     "data": {
      "image/png": "[encoded data removed]",
      "text/plain": [
       "<Figure size 432x288 with 1 Axes>"
      ]
     },
     "metadata": {
      "needs_background": "light"
     },
     "output_type": "display_data"
    }
   ],
   "source": [
    "ft=[]\n",
    "posi=range(-8,8,1)\n",
    "for i in range(0,len(unit)):\n",
    "    for j in range(0,len(unit)):\n",
    "        if i==j:\n",
    "            ft.append(unit_M[i,j]*posi[i])\n",
    "\n",
    "            \n",
    "            \n",
    "plt.plot(posi,ft)\n",
    "plt.show()"
   ]
  },
  {
   "cell_type": "code",
   "execution_count": 36,
   "metadata": {},
   "outputs": [],
   "source": [
    "h_osc_class_results_state_vector=[9.12098146e-01-3.32995760e-01j,\n",
    "             -3.60813616e-16+6.71504801e-16j,\n",
    "             -2.14983477e-01+7.84878105e-02j,\n",
    "              3.93229031e-16-8.16517169e-17j,\n",
    "              6.20601699e-02-2.26574010e-02j,\n",
    "              1.03454645e-16-8.58899089e-17j,\n",
    "             -1.88838365e-02+6.89425531e-03j,\n",
    "              7.08075899e-17-2.29357480e-16j,\n",
    "              5.88693519e-03-2.14924728e-03j,\n",
    "             -5.20905887e-17-3.17780383e-16j,\n",
    "             -1.85874004e-03+6.78603017e-04j,\n",
    "              1.82725439e-16+1.41032675e-16j,\n",
    "              5.85702573e-04-2.13832770e-04j,\n",
    "              3.47539715e-16+2.91728841e-16j,\n",
    "             -1.68118292e-04+6.13779106e-05j,\n",
    "              6.91057656e-17+4.45114522e-17j]\n",
    "\n",
    "anh_osc_class_results_state_vector= [-8.59410389e-01-3.68191272e-01j,\n",
    "              6.35826949e-15+1.14991475e-16j,\n",
    "              3.01646116e-01+1.29232167e-01j,\n",
    "             -3.98717162e-15+1.84541992e-15j,\n",
    "             -1.17041504e-01-5.01432854e-02j,\n",
    "              2.62265745e-15-1.88308681e-15j,\n",
    "              3.91457908e-02+1.67709615e-02j,\n",
    "             -1.55123199e-15+8.71388906e-16j,\n",
    "             -6.97731462e-03-2.98924284e-03j,\n",
    "              1.17977969e-15+6.10820490e-16j,\n",
    "             -4.15050463e-03-1.77817211e-03j,\n",
    "             -6.18670457e-16-1.50571262e-15j,\n",
    "              5.74410538e-03+2.46090749e-03j,\n",
    "              2.82016309e-16+2.16156676e-15j,\n",
    "             -3.42201363e-03-1.46606972e-03j,\n",
    "             -1.99592552e-16-2.64629085e-15j]"
   ]
  },
  {
   "cell_type": "code",
   "execution_count": 37,
   "metadata": {},
   "outputs": [],
   "source": [
    "\n",
    "h_osc_class_results_unit_state_vector    =[]\n",
    "h_osc_class_results_real_state_vector    =[]\n",
    "\n",
    "anh_osc_class_results_unit_state_vector  =[]\n",
    "anh_osc_class_results_real_state_vector  =[]\n",
    "\n",
    "for i in range(0,len(h_osc_class_results_state_vector)):\n",
    "    h_osc_class_results_unit_state_vector.append(unitize(h_osc_class_results_state_vector[i].real,h_osc_class_results_state_vector[i].imag))\n",
    "    h_osc_class_results_real_state_vector.append(h_osc_class_results_state_vector[i].real)\n",
    "    \n",
    "    anh_osc_class_results_unit_state_vector.append(unitize(anh_osc_class_results_state_vector[i].real,anh_osc_class_results_state_vector[i].imag))\n",
    "    anh_osc_class_results_real_state_vector.append(anh_osc_class_results_state_vector[i].real)\n",
    "    \n",
    "    \n",
    "    "
   ]
  },
  {
   "cell_type": "code",
   "execution_count": 38,
   "metadata": {},
   "outputs": [
    {
     "name": "stdout",
     "output_type": "stream",
     "text": [
      "(0.5000030151484+0j)\n",
      "(0.50000286355401+0j)\n",
      "(0.50001057724461+0j)\n",
      "(3.72741995096319+0j)\n",
      "(1.06824411529764+0j)\n",
      "(1.06824455286896+0j)\n"
     ]
    }
   ],
   "source": [
    "#COBYLA, L_BFGS_B, SLSQP\n",
    "\n",
    "print(h_osc_results['COBYLA']['eigenvalue'])\n",
    "print(h_osc_results['L_BFGS_B']['eigenvalue'])\n",
    "print(h_osc_results['SLSQP']['eigenvalue'])\n",
    "\n",
    "print(anh_osc_results['COBYLA']['eigenvalue'])\n",
    "print(anh_osc_results['L_BFGS_B']['eigenvalue'])\n",
    "print(anh_osc_results['SLSQP']['eigenvalue'])\n",
    "\n",
    "\n",
    "\n",
    "\n",
    "\n",
    "h_osc_graph_c          =unitize_all(h_osc_results['COBYLA']['eigenstate'].real, h_osc_results['COBYLA']['eigenstate'].imag)\n",
    "h_osc_graph_real_c     =h_osc_results['COBYLA']['eigenstate'].real\n",
    "anh_osc_graph_c        =unitize_all(anh_osc_results['COBYLA']['eigenstate'].real, anh_osc_results['COBYLA']['eigenstate'].imag)\n",
    "anh_osc_graph_real_c   =anh_osc_results['COBYLA']['eigenstate'].real\n",
    "\n",
    "\n",
    "\n",
    "\n",
    "h_osc_graph_l          =unitize_all(h_osc_results['L_BFGS_B']['eigenstate'].real, h_osc_results['L_BFGS_B']['eigenstate'].imag)\n",
    "h_osc_graph_real_l     =h_osc_results['L_BFGS_B']['eigenstate'].real\n",
    "anh_osc_graph_l        =unitize_all(anh_osc_results['L_BFGS_B']['eigenstate'].real, anh_osc_results['L_BFGS_B']['eigenstate'].imag)\n",
    "anh_osc_graph_real_l   =anh_osc_results['L_BFGS_B']['eigenstate'].real\n",
    "\n",
    "\n",
    "\n",
    "\n",
    "h_osc_graph_s          =unitize_all(h_osc_results['SLSQP']['eigenstate'].real, h_osc_results['SLSQP']['eigenstate'].imag)\n",
    "h_osc_graph_real_s     =h_osc_results['SLSQP']['eigenstate'].real\n",
    "anh_osc_graph_s        =unitize_all(anh_osc_results['SLSQP']['eigenstate'].real, anh_osc_results['SLSQP']['eigenstate'].imag)\n",
    "anh_osc_graph_real_s   =anh_osc_results['SLSQP']['eigenstate'].real\n"
   ]
  },
  {
   "cell_type": "code",
   "execution_count": 43,
   "metadata": {},
   "outputs": [
    {
     "name": "stderr",
     "output_type": "stream",
     "text": [
      "C:\\Users\\matth\\anaconda3\\lib\\site-packages\\numpy\\core\\_asarray.py:85: ComplexWarning: Casting complex values to real discards the imaginary part\n",
      "  return array(a, dtype, copy=False, order=order)\n",
      "C:\\Users\\matth\\anaconda3\\lib\\site-packages\\numpy\\core\\_asarray.py:85: ComplexWarning: Casting complex values to real discards the imaginary part\n",
      "  return array(a, dtype, copy=False, order=order)\n",
      "C:\\Users\\matth\\anaconda3\\lib\\site-packages\\numpy\\core\\_asarray.py:85: ComplexWarning: Casting complex values to real discards the imaginary part\n",
      "  return array(a, dtype, copy=False, order=order)\n",
      "C:\\Users\\matth\\anaconda3\\lib\\site-packages\\numpy\\core\\_asarray.py:85: ComplexWarning: Casting complex values to real discards the imaginary part\n",
      "  return array(a, dtype, copy=False, order=order)\n"
     ]
    },
    {
     "data": {
      "image/png": "[encoded data removed]",
      "text/plain": [
       "<Figure size 432x288 with 1 Axes>"
      ]
     },
     "metadata": {
      "needs_background": "light"
     },
     "output_type": "display_data"
    },
    {
     "name": "stderr",
     "output_type": "stream",
     "text": [
      "C:\\Users\\matth\\anaconda3\\lib\\site-packages\\numpy\\core\\_asarray.py:85: ComplexWarning: Casting complex values to real discards the imaginary part\n",
      "  return array(a, dtype, copy=False, order=order)\n",
      "C:\\Users\\matth\\anaconda3\\lib\\site-packages\\numpy\\core\\_asarray.py:85: ComplexWarning: Casting complex values to real discards the imaginary part\n",
      "  return array(a, dtype, copy=False, order=order)\n",
      "C:\\Users\\matth\\anaconda3\\lib\\site-packages\\numpy\\core\\_asarray.py:85: ComplexWarning: Casting complex values to real discards the imaginary part\n",
      "  return array(a, dtype, copy=False, order=order)\n",
      "C:\\Users\\matth\\anaconda3\\lib\\site-packages\\numpy\\core\\_asarray.py:85: ComplexWarning: Casting complex values to real discards the imaginary part\n",
      "  return array(a, dtype, copy=False, order=order)\n"
     ]
    },
    {
     "data": {
      "image/png": "[encoded data removed]",
      "text/plain": [
       "<Figure size 432x288 with 1 Axes>"
      ]
     },
     "metadata": {
      "needs_background": "light"
     },
     "output_type": "display_data"
    },
    {
     "name": "stdout",
     "output_type": "stream",
     "text": [
      "[2.40480876e-14+0.j 1.15429890e-12+0.j 6.01052254e-12+0.j\n",
      " 6.42374490e-11+0.j 1.05110320e-10+0.j 1.07012916e-10+0.j\n",
      " 1.74739812e-09+0.j 3.04489918e-09+0.j 2.87134782e-08+0.j\n",
      " 1.96312377e-07+0.j 2.12312632e-06+0.j 3.83713315e-05+0.j\n",
      " 4.00421775e-04+0.j 4.35792434e-03+0.j 5.23406904e-02+0.j\n",
      " 9.42860239e-01+0.j]\n"
     ]
    },
    {
     "data": {
      "text/plain": [
       "'\\n\\nplt.plot(x,h_osc_graph_real_c  , label=\\'h_osc_graph_real_c  \\')\\nplt.plot(x,h_osc_graph_real_l  , label=\\'h_osc_graph_real_l  \\')\\nplt.plot(x,h_osc_graph_real_s  , label=\\'h_osc_graph_real_s  \\')\\nplt.plot(x,h_osc_class_results_real_state_vector, label=\\'classical real result\\')\\n\\nplt.title(\"Ground State Wave Function Harmonic Oscillator VQE and classical Real Part\")\\nplt.legend()\\nplt.show()\\n\\n\\n\\nplt.plot(x,anh_osc_graph_real_c, label=\\'anh_osc_graph_real_c\\')\\nplt.plot(x,anh_osc_graph_real_l, label=\\'anh_osc_graph_real_l\\')\\n\\nplt.plot(x,anh_osc_graph_real_s, label=\\'anh_osc_graph_real_s\\')\\nplt.plot(x,anh_osc_class_results_real_state_vector, label=\\'anh_class_real\\')\\n\\nplt.title(\"Ground State Wave Function Anharmonic Oscillator Real Part\")\\nplt.title(\"Ground State Wave Function Anharmonic Oscillator Real and Classical results\")\\nplt.plot\\nplt.legend()\\nplt.show()\\n'"
      ]
     },
     "execution_count": 43,
     "metadata": {},
     "output_type": "execute_result"
    }
   ],
   "source": [
    "x=range(0,16)\n",
    "#h_osc_class_results_unit_state_vector\n",
    "#h_osc_class_results_real_state_vector\n",
    "\n",
    "#license .itd.bnl.gov\n",
    "\n",
    "plt.plot(x,np.sort(h_osc_graph_c)       , label='h_osc_graph_c       ')\n",
    "plt.plot(x,np.sort(h_osc_graph_l)       , label='h_osc_graph_l       ')\n",
    "plt.plot(x,np.sort(h_osc_graph_s)       , label='h_osc_graph_s       ')\n",
    "plt.plot(x,np.sort(h_osc_class_results_unit_state_vector), label='classical result')\n",
    "plt.title(\"Unitary Ground State Wave Function Harmonic Oscillator VQE and classical\")\n",
    "plt.legend()\n",
    "plt.show()\n",
    "\n",
    "\n",
    "\n",
    "plt.plot(x,np.sort(anh_osc_graph_c)     , label='anh_osc_graph_c     ')\n",
    "plt.plot(x,np.sort(anh_osc_graph_l)     , label='anh_osc_graph_l     ')\n",
    "plt.plot(x,np.sort(anh_osc_graph_s)     , label='anh_osc_graph_s     ')\n",
    "plt.plot(x,np.sort(anh_osc_class_results_unit_state_vector), label='anh_class_unit')\n",
    "plt.title(\"Unitary Ground State Wave Function Anharmonic Oscillator VQE and classical\")\n",
    "\n",
    "\n",
    "plt.legend()\n",
    "plt.show()\n",
    "\n",
    "#Make VQE\n",
    "print(np.sort(h_osc_graph_c))\n",
    "\"\"\"\n",
    "\n",
    "plt.plot(x,h_osc_graph_real_c  , label='h_osc_graph_real_c  ')\n",
    "plt.plot(x,h_osc_graph_real_l  , label='h_osc_graph_real_l  ')\n",
    "plt.plot(x,h_osc_graph_real_s  , label='h_osc_graph_real_s  ')\n",
    "plt.plot(x,h_osc_class_results_real_state_vector, label='classical real result')\n",
    "\n",
    "plt.title(\"Ground State Wave Function Harmonic Oscillator VQE and classical Real Part\")\n",
    "plt.legend()\n",
    "plt.show()\n",
    "\n",
    "\n",
    "\n",
    "plt.plot(x,anh_osc_graph_real_c, label='anh_osc_graph_real_c')\n",
    "plt.plot(x,anh_osc_graph_real_l, label='anh_osc_graph_real_l')\n",
    "\n",
    "plt.plot(x,anh_osc_graph_real_s, label='anh_osc_graph_real_s')\n",
    "plt.plot(x,anh_osc_class_results_real_state_vector, label='anh_class_real')\n",
    "\n",
    "plt.title(\"Ground State Wave Function Anharmonic Oscillator Real Part\")\n",
    "plt.title(\"Ground State Wave Function Anharmonic Oscillator Real and Classical results\")\n",
    "plt.plot\n",
    "plt.legend()\n",
    "plt.show()\n",
    "\"\"\"\n"
   ]
  },
  {
   "cell_type": "code",
   "execution_count": 40,
   "metadata": {
    "scrolled": false
   },
   "outputs": [
    {
     "ename": "NameError",
     "evalue": "name 'b' is not defined",
     "output_type": "error",
     "traceback": [
      "\u001b[1;31m---------------------------------------------------------------------------\u001b[0m",
      "\u001b[1;31mNameError\u001b[0m                                 Traceback (most recent call last)",
      "\u001b[1;32m<ipython-input-40-674510bb418f>\u001b[0m in \u001b[0;36m<module>\u001b[1;34m\u001b[0m\n\u001b[0;32m     33\u001b[0m \u001b[0mx\u001b[0m\u001b[1;33m=\u001b[0m\u001b[0mrange\u001b[0m\u001b[1;33m(\u001b[0m\u001b[1;36m0\u001b[0m\u001b[1;33m,\u001b[0m\u001b[0mlen\u001b[0m\u001b[1;33m(\u001b[0m\u001b[0mvect\u001b[0m\u001b[1;33m)\u001b[0m\u001b[1;33m)\u001b[0m\u001b[1;33m\u001b[0m\u001b[1;33m\u001b[0m\u001b[0m\n\u001b[0;32m     34\u001b[0m \u001b[0mplt\u001b[0m\u001b[1;33m.\u001b[0m\u001b[0mplot\u001b[0m\u001b[1;33m(\u001b[0m\u001b[0mx\u001b[0m\u001b[1;33m,\u001b[0m\u001b[0mvect\u001b[0m\u001b[1;33m,\u001b[0m \u001b[0mlabel\u001b[0m\u001b[1;33m=\u001b[0m\u001b[1;34m\"unitary vector\"\u001b[0m\u001b[1;33m)\u001b[0m\u001b[1;33m\u001b[0m\u001b[1;33m\u001b[0m\u001b[0m\n\u001b[1;32m---> 35\u001b[1;33m \u001b[0mplt\u001b[0m\u001b[1;33m.\u001b[0m\u001b[0mplot\u001b[0m\u001b[1;33m(\u001b[0m\u001b[0mx\u001b[0m\u001b[1;33m,\u001b[0m\u001b[0mb\u001b[0m\u001b[1;33m,\u001b[0m \u001b[0mlabel\u001b[0m\u001b[1;33m=\u001b[0m\u001b[1;34m\"Classical vector\"\u001b[0m\u001b[1;33m)\u001b[0m\u001b[1;33m\u001b[0m\u001b[1;33m\u001b[0m\u001b[0m\n\u001b[0m\u001b[0;32m     36\u001b[0m \u001b[0mplt\u001b[0m\u001b[1;33m.\u001b[0m\u001b[0mplot\u001b[0m\u001b[1;33m(\u001b[0m\u001b[0mx\u001b[0m\u001b[1;33m,\u001b[0m\u001b[0mc\u001b[0m\u001b[1;33m,\u001b[0m \u001b[0mlabel\u001b[0m\u001b[1;33m=\u001b[0m\u001b[1;34m\"Classical real vector\"\u001b[0m\u001b[1;33m)\u001b[0m\u001b[1;33m\u001b[0m\u001b[1;33m\u001b[0m\u001b[0m\n\u001b[0;32m     37\u001b[0m \u001b[1;33m\u001b[0m\u001b[0m\n",
      "\u001b[1;31mNameError\u001b[0m: name 'b' is not defined"
     ]
    },
    {
     "data": {
      "image/png": "[encoded data removed]",
      "text/plain": [
       "<Figure size 432x288 with 1 Axes>"
      ]
     },
     "metadata": {
      "needs_background": "light"
     },
     "output_type": "display_data"
    }
   ],
   "source": [
    "\n",
    "#COBYLA, L_BFGS_B, SLSQP\n",
    "\n",
    "#print(results['COBYLA']['eigenvalue'])\n",
    "#print(results['COBYLA']['eigenstate'],  '\\n\\n')\n",
    "#print(np.linalg.norm(results['COBYLA']['eigenstate']),  '\\n\\n')\n",
    "#print(results['COBYLA']['eigenstate'].real,  '\\n\\n')\n",
    "#print(results['COBYLA']['eigenstate'].imag,  '\\n\\n')\n",
    "\n",
    "\n",
    "#print(results['COBYLA']['eigenstate'].real[0])\n",
    "#print(results['COBYLA']['eigenstate'].imag[0],  '\\n\\n')\n",
    "\n",
    "def unitize(a,b):\n",
    "    real=a*a\n",
    "    imag=b*-b*(-1)\n",
    "    return real+imag\n",
    "\n",
    "def unitize_all(a_all,b_all):\n",
    "    unit_arr=[]\n",
    "    for i in range(0,len(a_all)):\n",
    "        unit_arr.append(unitize(a_all[i],b_all[i]))\n",
    "    \n",
    "    return unit_arr\n",
    "        \n",
    "    \n",
    "    \n",
    "\n",
    "#print(unitize(results['COBYLA']['eigenstate'].real[0], results['COBYLA']['eigenstate'].imag[0]))\n",
    "#print(unitize_all(results['COBYLA']['eigenstate'].real, results['COBYLA']['eigenstate'].imag))\n",
    "\n",
    "vect=unitize_all(results['COBYLA']['eigenstate'].real, results['COBYLA']['eigenstate'].imag)\n",
    "len(vect)\n",
    "x=range(0,len(vect))\n",
    "plt.plot(x,vect, label=\"unitary vector\")\n",
    "plt.plot(x,b, label=\"Classical vector\")\n",
    "plt.plot(x,c, label=\"Classical real vector\")\n",
    "\n",
    "plt.plot(x,results['COBYLA']['eigenstate'].real, label=\"Real Part\")\n",
    "plt.legend()\n",
    "plt.show()\n",
    "\n",
    "vect=unitize_all(results['L_BFGS_B']['eigenstate'].real, results['L_BFGS_B']['eigenstate'].imag)\n",
    "\n",
    "len(vect)\n",
    "x=range(0,len(vect))\n",
    "plt.plot(x,vect)\n",
    "plt.plot(x,results['L_BFGS_B']['eigenstate'].real, label=\"Real Part\")\n",
    "plt.plot(x,b, label=\"Classical vector\")\n",
    "plt.legend()\n",
    "plt.show()\n",
    "\n",
    "vect=unitize_all(results['SLSQP']['eigenstate'].real, results['SLSQP']['eigenstate'].imag)\n",
    "len(vect)\n",
    "x=range(0,len(vect))\n",
    "plt.plot(x,vect)\n",
    "plt.plot(x,results['SLSQP']['eigenstate'].real, label=\"Real Part\")\n",
    "plt.plot(x,b, label=\"Classical vector\")\n",
    "plt.legend()\n",
    "plt.show()\n",
    "\n"
   ]
  },
  {
   "cell_type": "code",
   "execution_count": 7,
   "metadata": {
    "scrolled": true
   },
   "outputs": [
    {
     "data": {
      "text/html": [
       "<div style='width: 100%; background-color:#d5d9e0;padding-left: 10px; padding-bottom: 10px; padding-right: 10px; padding-top: 5px'><h3>This code is a part of Qiskit</h3><p>&copy; Copyright IBM 2017, 2020.</p><p>This code is licensed under the Apache License, Version 2.0. You may<br>obtain a copy of this license in the LICENSE.txt file in the root directory<br> of this source tree or at http://www.apache.org/licenses/LICENSE-2.0.<p>Any modifications or derivative works of this code must retain this<br>copyright notice, and modified files need to carry a notice indicating<br>that they have been altered from the originals.</p></div>"
      ],
      "text/plain": [
       "<IPython.core.display.HTML object>"
      ]
     },
     "metadata": {},
     "output_type": "display_data"
    }
   ],
   "source": [
    "%qiskit_copyright"
   ]
  },
  {
   "cell_type": "markdown",
   "metadata": {},
   "source": [
    "# References\n",
    "\n",
    "- [Quantum Computing: An Applied Approach](https://github.com/JackHidary/quantumcomputingbook)\n",
    "- [Variational Quantum Eigensolver explained](https://www.mustythoughts.com/post/variational-quantum-eigensolver-explained)\n",
    "- [VQE Notebook](https://github.com/DavitKhach/quantum-algorithms-tutorials/blob/master/variational_quantum_eigensolver.ipynb)\n",
    "- [Simulating Molecules using VQE](https://qiskit.org/textbook/ch-applications/vqe-molecules.html#Simulating-Molecules-using-VQE)\n",
    "- [Quantum chemistry as a benchmark for near-term quantum computers](https://www.nature.com/articles/s41534-019-0209-0)\n",
    "- [Generalization of the output of variational quantum eigensolver by parameter interpolation with low-depth ansatz](https://arxiv.org/abs/1810.04482)\n",
    "- [Digital quantum simulation of molecular vibrations](https://pubs.rsc.org/en/content/articlelanding/2019/sc/c9sc01313j#!divAbstract)\n",
    "- [Variational Forms (qiskit guide)](https://qiskit-staging.mybluemix.net/documentation/aqua/variational_forms.html)\n",
    "- [Quantum computing a Gaussian wavefunction](https://medium.com/@sohaib.alam/quantum-computing-a-gaussian-wavefunction-2d0be23d77b2)\n",
    "- [Variational-Quantum-Eigensolver (VQE) (grove docs)](https://grove-docs.readthedocs.io/en/latest/vqe.html)"
   ]
  }
 ],
 "metadata": {
  "kernelspec": {
   "display_name": "Python 3",
   "language": "python",
   "name": "python3"
  },
  "language_info": {
   "codemirror_mode": {
    "name": "ipython",
    "version": 3
   },
   "file_extension": ".py",
   "mimetype": "text/x-python",
   "name": "python",
   "nbconvert_exporter": "python",
   "pygments_lexer": "ipython3",
   "version": "3.7.6"
  },
  "toc": {
   "base_numbering": 1,
   "nav_menu": {
    "height": "271px",
    "width": "413px"
   },
   "number_sections": true,
   "sideBar": true,
   "skip_h1_title": false,
   "title_cell": "Table of Contents",
   "title_sidebar": "Contents",
   "toc_cell": false,
   "toc_position": {},
   "toc_section_display": true,
   "toc_window_display": false
  }
 },
 "nbformat": 4,
 "nbformat_minor": 4
}
